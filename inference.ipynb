{
 "cells": [
  {
   "cell_type": "code",
   "execution_count": null,
   "metadata": {},
   "outputs": [],
   "source": [
    "from argparse import ArgumentParser\n",
    "from itertools import combinations as comb\n",
    "from os import listdir, makedirs\n",
    "from os.path import exists, isfile, join\n",
    "\n",
    "import cv2 as cv\n",
    "import numpy as np\n",
    "from detector import Detector\n",
    "from logger import Logger, _timestamp\n",
    "from marker import Marker\n",
    "from natsort import natsorted\n",
    "from PIL import Image\n",
    "from tqdm import tqdm\n",
    "from utils import load, save"
   ]
  },
  {
   "cell_type": "markdown",
   "metadata": {},
   "source": [
    "**Defining Settings**\n",
    "\n",
    "-   `DICT_TYPE`: ArUCo marker dictionary\n",
    "-   `MARKER_SIZE`: Marker size (can be in any unit)\n",
    "-   `VALID_MARKER_IDS`: Detection will only match the IDs provided below, leave the list empty if you want possible markers to be detected, highly advised to be used if `USE_ADVANCED_THRESHOLDING` is enabled\n",
    "-   `ROOT_DIRECTORY`: Root directory of the images, see below for file structure\n",
    "-   `OUTPUT_DIRECTORY`: Output directory for the results, log file, and generated images\n",
    "-   `GENERATE_RESULTS`: Boolean flag for generating result images\n",
    "-   `GENERATE_OVERLAYS`: Boolean flag for generating an overlaid result of all the result images of the subdirectory\n",
    "-   `USE_ADVANCED_THRESHOLDING`: Boolean flag for enabling advanced thresholding. Sweeps for a multitude of thresholding settings, aids in detecting markers that are less visible.\n",
    "-   `DETECTION_ONLY`: Boolean flag for disabling comparison and calculations\n",
    "-   `VERBOSE_OUTPUT`: Boolean flag for enabling command line output\n",
    "\n",
    "**File Structure**\n",
    "The images should be structured in the following directory format.\n",
    "Each subdirectory must have two or more images.\n",
    "\n",
    "```\n",
    "/path/to/root/folder\n",
    "    |--> /sub_directory_1\n",
    "        |--> repeat1.jpg\n",
    "        |--> repeat2.jpg\n",
    "    |--> /sub_directory_2\n",
    "        |--> repeat1.jpg\n",
    "        |--> repeat2.jpg\n",
    "    |--> /sub_directory_3\n",
    "        |--> repeat1.jpg\n",
    "        |--> repeat2.jpg\n",
    "        |--> repeat3.jpg\n",
    "    ...\n",
    "```\n"
   ]
  },
  {
   "cell_type": "code",
   "execution_count": null,
   "metadata": {},
   "outputs": [],
   "source": [
    "DICT_TYPE = \"DICT_4X4_100\"\n",
    "MARKER_SIZE = 3\n",
    "VALID_MARKER_IDS = [0, 1, 2, 3, 4, 5, 6, 7]\n",
    "\n",
    "ROOT_DIRECTORY = \"data/\"\n",
    "OUTPUT_DIRECTORY = \"out/\"\n",
    "\n",
    "GENERATE_RESULTS = True\n",
    "GENERATE_OVERLAYS = True\n",
    "\n",
    "USE_ADVANCED_THRESHOLDING = False\n",
    "DETECTION_ONLY = False\n",
    "\n",
    "VERBOSE_OUTPUT = True\n",
    "\n",
    "logger = Logger(OUTPUT_DIRECTORY)\n",
    "detector = Detector(DICT_TYPE, USE_ADVANCED_THRESHOLDING, VALID_MARKER_IDS, logger)"
   ]
  },
  {
   "cell_type": "markdown",
   "metadata": {},
   "source": [
    "**Initialisation Step:**\n",
    "\n",
    "-   Verifying that each subdirectory of the root has two or more images\n",
    "-   Create leaf directories in the output folder\n"
   ]
  },
  {
   "cell_type": "code",
   "execution_count": null,
   "metadata": {},
   "outputs": [],
   "source": [
    "logger.plain(\"=== INITIALISATION: Verifying Subdirectories ===\")\n",
    "\n",
    "markers = {}\n",
    "imgs = []\n",
    "\n",
    "subDirs = natsorted(listdir(ROOT_DIRECTORY))\n",
    "iterator = subDirs if VERBOSE_OUTPUT else tqdm(subDirs)\n",
    "\n",
    "for subDirName in iterator:\n",
    "    logger.action(f\"Checking folder: {subDirName}\")\n",
    "    folder = join(ROOT_DIRECTORY, folder)\n",
    "    fList = natsorted(listdir(folder))\n",
    "\n",
    "    if len(fList) < 2:\n",
    "        logger.warn(f\"Skipping directory - directory has less than 2 images\")\n",
    "\n",
    "    markers[subDirName] = {}\n",
    "    for fileName in natsorted(listdir(folder)):\n",
    "        file = join(folder, fileName)\n",
    "        markers[subDirName][fileName] = {}\n",
    "        imgs.append((subDirName, fileName))\n",
    "\n",
    "    if GENERATE_RESULTS:\n",
    "        res = join(OUTPUT_DIRECTORY, \"images\", subDirName)\n",
    "        makedirs(res)\n",
    "\n",
    "        if GENERATE_OVERLAYS:\n",
    "            makedirs(join(res, \"overlay\"))"
   ]
  },
  {
   "cell_type": "code",
   "execution_count": null,
   "metadata": {},
   "outputs": [],
   "source": [
    "logger.plain(\"=== DETECTION ===\")\n",
    "\n",
    "iterator = imgs if VERBOSE_OUTPUT else tqdm(imgs)\n",
    "for subDirName, fileName in iterator:\n",
    "    ids, markers = detector.detectMarkersFromFile(join(ROOT_DIRECTORY, subDirName, fileName))\n",
    "    markers[subDirName][fileName] = dict(zip(ids, markers))"
   ]
  }
 ],
 "metadata": {
  "kernelspec": {
   "display_name": "base",
   "language": "python",
   "name": "python3"
  },
  "language_info": {
   "codemirror_mode": {
    "name": "ipython",
    "version": 3
   },
   "file_extension": ".py",
   "mimetype": "text/x-python",
   "name": "python",
   "nbconvert_exporter": "python",
   "pygments_lexer": "ipython3",
   "version": "3.12.7"
  }
 },
 "nbformat": 4,
 "nbformat_minor": 2
}
