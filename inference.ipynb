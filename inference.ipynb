{
 "cells": [
  {
   "cell_type": "code",
   "execution_count": 1,
   "metadata": {},
   "outputs": [],
   "source": [
    "from itertools import combinations as comb\n",
    "from os import listdir, makedirs\n",
    "from os.path import join\n",
    "\n",
    "import cv2 as cv\n",
    "import numpy as np\n",
    "from detector import Detector\n",
    "from logger import Logger, _timestamp\n",
    "from marker import Marker\n",
    "from natsort import natsorted\n",
    "from PIL import Image\n",
    "from tqdm import tqdm\n",
    "from utils import saveJSON, saveCSV"
   ]
  },
  {
   "cell_type": "markdown",
   "metadata": {},
   "source": [
    "**Defining Settings**\n",
    "\n",
    "-   `DICT_TYPE`: ArUCo marker dictionary\n",
    "-   `MARKER_SIZE`: Marker size (can be in any unit)\n",
    "-   `VALID_MARKER_IDS`: Detection will only match the IDs provided below, leave the list empty if you want possible markers to be detected, highly advised to be used if `USE_ADV_THRESH` is enabled\n",
    "-   `ROOT_DIR`: Root directory of the images, see below for file structure\n",
    "-   `OUT_DIR`: Output directory for the results, log file, and generated images, **however, the output directory can't be inside the `ROOT_DIR`**\n",
    "-   `GEN_RESULTS`: Boolean flag for generating result images\n",
    "-   `GEN_OVERLAYS`: Boolean flag for generating an overlaid result of all the result images of the subdirectory\n",
    "-   `USE_ADV_THRESH`: Boolean flag for enabling advanced thresholding. Sweeps for a multitude of thresholding settings, aids in detecting markers that are less visible.\n",
    "-   `DETECTION_ONLY`: Boolean flag for disabling comparison and calculations\n",
    "-   `VERBOSE`: Boolean flag for enabling command line output\n",
    "\n",
    "**File Structure**\n",
    "The images should be structured in the following directory format.\n",
    "Each subdirectory must have two or more images.\n",
    "\n",
    "```\n",
    "/path/to/root/folder\n",
    "    |--> /sub_directory_1\n",
    "        |--> repeat1.jpg\n",
    "        |--> repeat2.jpg\n",
    "    |--> /sub_directory_2\n",
    "        |--> repeat1.jpg\n",
    "        |--> repeat2.jpg\n",
    "    |--> /sub_directory_3\n",
    "        |--> repeat1.jpg\n",
    "        |--> repeat2.jpg\n",
    "        |--> repeat3.jpg\n",
    "    ...\n",
    "```\n"
   ]
  },
  {
   "cell_type": "code",
   "execution_count": null,
   "metadata": {},
   "outputs": [],
   "source": [
    "MARKER_CSV_HEAD = [\n",
    "    \"group\",\n",
    "    \"image\",\n",
    "    \"marker_id\",\n",
    "    \"v0_x\",\n",
    "    \"v0_y\",\n",
    "    \"v1_x\",\n",
    "    \"v1_y\",\n",
    "    \"v2_x\",\n",
    "    \"v2_y\",\n",
    "    \"v3_x\",\n",
    "    \"v3_y\",\n",
    "]\n",
    "RESULTS_CSV_HEAD = [\"group\", \"marker_id\", \"image0\", \"image1\", \"dx\", \"dy\", \"d\"]\n",
    "\n",
    "DICT_TYPE = \"DICT_4X4_100\"\n",
    "MARKER_SIZE = 3\n",
    "VALID_MARKER_IDS = [0, 1, 2, 3, 4, 5, 6, 7]\n",
    "\n",
    "ROOT_DIR = \"data/\"\n",
    "OUT_DIR = \"out/\"\n",
    "\n",
    "GEN_RESULTS = True\n",
    "GEN_OVERLAYS = True\n",
    "\n",
    "USE_ADV_THRESH = False\n",
    "DETECTION_ONLY = False\n",
    "\n",
    "VERBOSE = False\n",
    "\n",
    "OUT_DIR = join(OUT_DIR, f\"JOB_{_timestamp(True)}\")\n",
    "makedirs(OUT_DIR)\n",
    "\n",
    "logger = Logger(OUT_DIR)\n",
    "detector = Detector(DICT_TYPE, USE_ADV_THRESH, VALID_MARKER_IDS, logger)"
   ]
  },
  {
   "cell_type": "markdown",
   "metadata": {},
   "source": [
    "**Initialisation Step**\n",
    "\n",
    "-   Verifying that each subdirectory of the root has two or more images\n",
    "-   Create leaf directories in the output folder\n"
   ]
  },
  {
   "cell_type": "code",
   "execution_count": null,
   "metadata": {},
   "outputs": [],
   "source": [
    "logger.plain(\"=== INITIALISATION: Verifying Subdirectories ===\")\n",
    "markers, _markers, imgs = {}, {}, []\n",
    "subDirs = natsorted(listdir(ROOT_DIR))\n",
    "for subDirName in subDirs if VERBOSE else tqdm(subDirs):\n",
    "    if subDirName != \".DS_Store\":\n",
    "        logger.action(f\"Checking folder: {subDirName}\", toConsole=VERBOSE)\n",
    "        folder = join(ROOT_DIR, subDirName)\n",
    "        fList = natsorted(listdir(folder))\n",
    "\n",
    "        if len(fList) < 2:\n",
    "            logger.warn(f\"Skipping directory - directory has less than 2 images\")\n",
    "\n",
    "        markers[subDirName] = dict(zip(fList, [{}] * len(fList)))\n",
    "        _markers[subDirName] = dict(zip(fList, [{}] * len(fList)))\n",
    "        for fileName in fList:\n",
    "            if fileName != \".DS_Store\":\n",
    "                imgs.append((subDirName, fileName))\n",
    "\n",
    "        if GEN_RESULTS:\n",
    "            makedirs(join(OUT_DIR, \"images\", subDirName))\n",
    "            if GEN_OVERLAYS:\n",
    "                makedirs(join(OUT_DIR, \"images\", subDirName, \"overlay\"))"
   ]
  },
  {
   "cell_type": "markdown",
   "metadata": {},
   "source": [
    "**Detection Step**\n",
    "\n",
    "-   Go through each subdirectory and each image in the subdirectories\n",
    "-   Detect all markers present in the images\n",
    "-   Generate results images\n",
    "-   Saves the intermediate results (coordinates of detected markers) to JSON and CSV file in the output directory\n"
   ]
  },
  {
   "cell_type": "code",
   "execution_count": null,
   "metadata": {},
   "outputs": [],
   "source": [
    "logger.plain(\"=== DETECTION ===\")\n",
    "for subDirName, fileName in imgs if VERBOSE else tqdm(imgs):\n",
    "    img = join(ROOT_DIR, subDirName, fileName)\n",
    "    i, m = detector.detectMarkersFromFile(img, VERBOSE)\n",
    "\n",
    "    if GEN_RESULTS:\n",
    "        res = detector.drawMarkersFromFile(img, i, m)\n",
    "        sOut = cv.imwrite(join(OUT_DIR, \"images\", subDirName, fileName), res)\n",
    "        logOut = f\" -> Output file {'saved successfully' if sOut else 'failed to save'}.\"\n",
    "        logger.action(logOut, toConsole=VERBOSE)\n",
    "\n",
    "    i = list(map(str, i.flatten()))\n",
    "    m = [x[0].tolist() for x in m]\n",
    "    markers[subDirName][fileName] = dict(zip(i, m))\n",
    "    _markers[subDirName][fileName] = dict(zip(i, map(Marker, m)))\n",
    "\n",
    "saveJSON(markers, join(OUT_DIR, \"markers.json\"))\n",
    "\n",
    "rows = []\n",
    "for grpName, grp in markers.items():\n",
    "    for imgName, img in grp.items():\n",
    "        for mID, m in img.items():\n",
    "            rows.append([grpName, imgName, mID, *list(map(str, np.array(m).flatten().tolist()))])\n",
    "saveCSV(MARKER_CSV_HEAD, rows, join(OUT_DIR, \"markers.csv\"))"
   ]
  },
  {
   "cell_type": "markdown",
   "metadata": {},
   "source": [
    "**Calculation and Comparison Step**\n",
    "\n",
    "-   Recover edge length of each maker\n",
    "-   Calculate the distances of markers in the same group with the same ID\n",
    "-   Save result dictionary as JSON\n",
    "-   Convert dictionary to rows of data and save as CSV\n"
   ]
  },
  {
   "cell_type": "code",
   "execution_count": null,
   "metadata": {},
   "outputs": [],
   "source": [
    "if not DETECTION_ONLY:\n",
    "    logger.plain(\"=== CALCULATION AND COMPARISON ===\")\n",
    "    results = {}\n",
    "    for grpName, grp in _markers.items() if VERBOSE else tqdm(_markers.items()):\n",
    "        results[grpName] = {}\n",
    "        logger.action(f\"Processing group: {grpName}\", toConsole=VERBOSE, noNewLine=1)\n",
    "        for i0, i1 in comb(list(grp.keys()), 2):\n",
    "            pair = f\"{i0}/{i1}\"\n",
    "            s0, s1 = set(grp[i0].keys()), set(grp[i1].keys())\n",
    "            ms = sorted(list(s0.intersection(s1)))\n",
    "            logger.action(f\"Matching pairs found: {' '.join(ms)}\", toConsole=VERBOSE)\n",
    "            for mID in ms:\n",
    "                m0, m1 = grp[i0][mID], grp[i1][mID]\n",
    "                [x, y], d = m0 - m1\n",
    "                r = MARKER_SIZE / ((m0.recoverEdgeLength() + m1.recoverEdgeLength()) / 2)\n",
    "                if mID not in results[grpName]:\n",
    "                    results[grpName][mID] = {}\n",
    "                results[grpName][mID][pair] = {\"dx\": r * x, \"dy\": r * y, \"d\": r * d}\n",
    "\n",
    "    saveJSON(results, join(OUT_DIR, \"results.json\"))\n",
    "    rows = []\n",
    "    for grpName, grp in results.items():\n",
    "        for mID, pairs in grp.items():\n",
    "            for imgName, img in pairs.items():\n",
    "                img0, img1 = imgName.split(\"/\")\n",
    "                rows.append(\n",
    "                    [grpName, mID, img0, img1, str(img[\"dx\"]), str(img[\"dy\"]), str(img[\"d\"])]\n",
    "                )\n",
    "    saveCSV(RESULTS_CSV_HEAD, rows, join(OUT_DIR, \"results.csv\"))"
   ]
  },
  {
   "cell_type": "markdown",
   "metadata": {},
   "source": [
    "**Image Overlays Generation Step**\n",
    "\n",
    "-   Go through each subdirectory in the output folder and overlay images with equal alpha\n"
   ]
  },
  {
   "cell_type": "code",
   "execution_count": null,
   "metadata": {},
   "outputs": [],
   "source": [
    "if GEN_RESULTS and GEN_OVERLAYS:\n",
    "    logger.plain(\"=== COMPUTING OVERLAYS ===\")\n",
    "    for grpName, grp in markers.items() if VERBOSE else tqdm(markers.items()):\n",
    "        logger.action(f\"Processing group: {grpName}\", toConsole=VERBOSE, noNewLine=1)\n",
    "        folder = join(OUT_DIR, \"images\", grpName)\n",
    "        imgFs = [Image.open(join(folder, i)).convert(\"RGBA\") for i in natsorted(grp.keys())]\n",
    "\n",
    "        if len(imgFs) == 1:\n",
    "            logger.action(\n",
    "                \" -> Directory only has 1 image, no overlays will be generated\",\n",
    "                toConsole=VERBOSE,\n",
    "            )\n",
    "        else:\n",
    "            output = Image.new(\"RGBA\", imgFs[0].size)\n",
    "            alpha = int(255 / len(imgFs))\n",
    "\n",
    "            for img in imgFs:\n",
    "                img.putalpha(Image.new(\"L\", imgFs[0].size, alpha))\n",
    "                output = Image.alpha_composite(output, img)\n",
    "\n",
    "            output.convert(\"RGB\").save(join(folder, \"overlay\", \"result.png\"))\n",
    "            logger.action(\" -> Overlay generated\", toConsole=VERBOSE)"
   ]
  },
  {
   "cell_type": "markdown",
   "metadata": {},
   "source": [
    "**Close logger and flush output into log file**\n",
    "\n",
    "-   If not ran, log file may not be complete\n"
   ]
  },
  {
   "cell_type": "code",
   "execution_count": 7,
   "metadata": {},
   "outputs": [],
   "source": [
    "logger.close()"
   ]
  }
 ],
 "metadata": {
  "kernelspec": {
   "display_name": "phd",
   "language": "python",
   "name": "python3"
  },
  "language_info": {
   "codemirror_mode": {
    "name": "ipython",
    "version": 3
   },
   "file_extension": ".py",
   "mimetype": "text/x-python",
   "name": "python",
   "nbconvert_exporter": "python",
   "pygments_lexer": "ipython3",
   "version": "3.11.5"
  }
 },
 "nbformat": 4,
 "nbformat_minor": 2
}
