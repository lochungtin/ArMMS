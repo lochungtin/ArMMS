{
 "cells": [
  {
   "cell_type": "code",
   "execution_count": 1,
   "metadata": {},
   "outputs": [],
   "source": [
    "from main import App"
   ]
  },
  {
   "cell_type": "markdown",
   "metadata": {},
   "source": [
    "**Defining Settings**\n",
    "\n",
    "-   `DICT_TYPE`: ArUCo marker dictionary\n",
    "-   `MARKER_SIZE`: Marker size (can be in any unit)\n",
    "-   `VALID_MARKER_IDS`: Detection will only match the IDs provided below, leave the list empty if you want possible markers to be detected, highly advised to be used if `USE_ADV_THRESH` is enabled\n",
    "-   `ROOT_DIR`: Root directory of the images, see below for file structure\n",
    "-   `OUT_DIR`: Output directory for the results, log file, and generated images, **however, the output directory can't be inside the `ROOT_DIR`**\n",
    "-   `GEN_RESULTS`: Boolean flag for generating result images\n",
    "-   `GEN_OVERLAYS`: Boolean flag for generating an overlaid result of all the result images of the subdirectory\n",
    "-   `USE_ADV_THRESH`: Boolean flag for enabling advanced thresholding. Sweeps for a multitude of thresholding settings, aids in detecting markers that are less visible.\n",
    "-   `DETECTION_ONLY`: Boolean flag for disabling comparison and calculations\n",
    "-   `VERBOSE`: Boolean flag for enabling command line output\n",
    "\n",
    "**File Structure**\n",
    "The images should be structured in the following directory format.\n",
    "Each subdirectory must have two or more images.\n",
    "\n",
    "```\n",
    "/path/to/root/folder\n",
    "    |--> /sub_directory_1\n",
    "        |--> repeat1.jpg\n",
    "        |--> repeat2.jpg\n",
    "    |--> /sub_directory_2\n",
    "        |--> repeat1.jpg\n",
    "        |--> repeat2.jpg\n",
    "    |--> /sub_directory_3\n",
    "        |--> repeat1.jpg\n",
    "        |--> repeat2.jpg\n",
    "        |--> repeat3.jpg\n",
    "    ...\n",
    "```\n"
   ]
  },
  {
   "cell_type": "code",
   "execution_count": 2,
   "metadata": {},
   "outputs": [
    {
     "name": "stdout",
     "output_type": "stream",
     "text": [
      "\u001b[32m[2025-08-08 12:08:11] [Action]\u001b[0m - Logger created: [DICT_4X4_100] type selected\n"
     ]
    }
   ],
   "source": [
    "MARKER_CSV_HEAD = [\n",
    "    \"group\",\n",
    "    \"image\",\n",
    "    \"marker_id\",\n",
    "    \"v0_x\",\n",
    "    \"v0_y\",\n",
    "    \"v1_x\",\n",
    "    \"v1_y\",\n",
    "    \"v2_x\",\n",
    "    \"v2_y\",\n",
    "    \"v3_x\",\n",
    "    \"v3_y\",\n",
    "]\n",
    "RESULTS_CSV_HEAD = [\"group\", \"marker_id\", \"image0\", \"image1\", \"dx\", \"dy\", \"d\"]\n",
    "\n",
    "DICT_TYPE = \"DICT_4X4_100\"\n",
    "MARKER_SIZE = 3\n",
    "VALID_MARKER_IDS = [0, 1, 2, 3, 4, 5, 6, 7]\n",
    "\n",
    "ROOT_DIR = \"data_time_series/\"\n",
    "OUT_DIR = \"out/\"\n",
    "\n",
    "USE_ADV_THRESH = False\n",
    "\n",
    "GEN_RESULTS = True\n",
    "GEN_OVERLAYS = True\n",
    "\n",
    "VERBOSE = False\n",
    "\n",
    "app = App(\n",
    "    DICT_TYPE,\n",
    "    MARKER_SIZE,\n",
    "    VALID_MARKER_IDS,\n",
    "    ROOT_DIR,\n",
    "    OUT_DIR,\n",
    "    None,\n",
    "    USE_ADV_THRESH,\n",
    "    None,\n",
    "    GEN_RESULTS,\n",
    "    GEN_OVERLAYS,\n",
    "    VERBOSE,\n",
    ")"
   ]
  },
  {
   "cell_type": "markdown",
   "metadata": {},
   "source": [
    "**Initialisation Step**\n",
    "\n",
    "-   Verifying that each subdirectory of the root has two or more images\n",
    "-   Create leaf directories in the output folder\n"
   ]
  },
  {
   "cell_type": "code",
   "execution_count": 3,
   "metadata": {},
   "outputs": [
    {
     "name": "stdout",
     "output_type": "stream",
     "text": [
      "\u001b[97m[2025-08-08 12:08:11]\u001b[0m - === INITIALISATION: Verifying Subdirectories ===\n"
     ]
    },
    {
     "name": "stderr",
     "output_type": "stream",
     "text": [
      "100%|██████████| 2/2 [00:00<00:00, 666.77it/s]\n"
     ]
    }
   ],
   "source": [
    "app.prepDir()"
   ]
  },
  {
   "cell_type": "markdown",
   "metadata": {},
   "source": [
    "**Detection Step**\n",
    "\n",
    "-   Go through each subdirectory and each image in the subdirectories\n",
    "-   Detect all markers present in the images\n",
    "-   Generate results images\n",
    "-   Saves the intermediate results (coordinates of detected markers) to JSON and CSV file in the output directory\n"
   ]
  },
  {
   "cell_type": "code",
   "execution_count": 4,
   "metadata": {},
   "outputs": [
    {
     "name": "stdout",
     "output_type": "stream",
     "text": [
      "\u001b[97m[2025-08-08 12:08:11]\u001b[0m - === DETECTION ===\n"
     ]
    },
    {
     "name": "stderr",
     "output_type": "stream",
     "text": [
      "100%|██████████| 16/16 [00:01<00:00, 14.49it/s]\n"
     ]
    }
   ],
   "source": [
    "app.detection()"
   ]
  },
  {
   "cell_type": "markdown",
   "metadata": {},
   "source": [
    "**Calculation and Comparison Step**\n",
    "\n",
    "-   Recover edge length of each maker\n",
    "-   Calculate the distances of markers in the same group with the same ID\n",
    "-   Save result dictionary as JSON\n",
    "-   Convert dictionary to rows of data and save as CSV\n"
   ]
  },
  {
   "cell_type": "code",
   "execution_count": 5,
   "metadata": {},
   "outputs": [
    {
     "name": "stdout",
     "output_type": "stream",
     "text": [
      "\u001b[97m[2025-08-08 12:08:12]\u001b[0m - === CALCULATION AND COMPARISON ===\n"
     ]
    },
    {
     "name": "stderr",
     "output_type": "stream",
     "text": [
      "100%|██████████| 2/2 [00:00<00:00, 222.22it/s]\n"
     ]
    }
   ],
   "source": [
    "# to compare all markers against each other\n",
    "app.comparison_all()"
   ]
  },
  {
   "cell_type": "code",
   "execution_count": 6,
   "metadata": {},
   "outputs": [
    {
     "name": "stdout",
     "output_type": "stream",
     "text": [
      "\u001b[97m[2025-08-08 12:08:12]\u001b[0m - === CALCULATION AND COMPARISON ===\n"
     ]
    },
    {
     "name": "stderr",
     "output_type": "stream",
     "text": [
      "100%|██████████| 2/2 [00:00<?, ?it/s]\n",
      "100%|██████████| 2/2 [00:00<00:00, 666.93it/s]\n"
     ]
    }
   ],
   "source": [
    "# to only compare the markers from the first image to the rest\n",
    "app.comparison_series()"
   ]
  },
  {
   "cell_type": "markdown",
   "metadata": {},
   "source": [
    "**Image Overlays Generation Step**\n",
    "\n",
    "-   Go through each subdirectory in the output folder and overlay images with equal alpha\n"
   ]
  },
  {
   "cell_type": "code",
   "execution_count": 7,
   "metadata": {},
   "outputs": [
    {
     "name": "stdout",
     "output_type": "stream",
     "text": [
      "\u001b[97m[2025-08-08 12:08:12]\u001b[0m - === COMPUTING OVERLAYS ===\n"
     ]
    },
    {
     "name": "stderr",
     "output_type": "stream",
     "text": [
      "100%|██████████| 2/2 [00:02<00:00,  1.00s/it]\n"
     ]
    }
   ],
   "source": [
    "app.overlays()"
   ]
  },
  {
   "cell_type": "markdown",
   "metadata": {},
   "source": [
    "**Close logger and flush output into log file**\n",
    "\n",
    "-   If not ran, log file may not be complete\n"
   ]
  },
  {
   "cell_type": "code",
   "execution_count": 8,
   "metadata": {},
   "outputs": [],
   "source": [
    "app.logger.close()"
   ]
  }
 ],
 "metadata": {
  "kernelspec": {
   "display_name": "phd",
   "language": "python",
   "name": "python3"
  },
  "language_info": {
   "codemirror_mode": {
    "name": "ipython",
    "version": 3
   },
   "file_extension": ".py",
   "mimetype": "text/x-python",
   "name": "python",
   "nbconvert_exporter": "python",
   "pygments_lexer": "ipython3",
   "version": "3.11.11"
  }
 },
 "nbformat": 4,
 "nbformat_minor": 2
}
